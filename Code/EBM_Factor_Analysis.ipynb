{
 "cells": [
  {
   "cell_type": "code",
   "execution_count": 131,
   "metadata": {},
   "outputs": [],
   "source": [
    "import pandas as pd\n",
    "import yfinance as yf\n",
    "import warnings\n",
    "\n",
    "from support import fama_french\n",
    "\n",
    "from interpret import show\n",
    "from interpret.data import Marginal\n",
    "from interpret.glassbox import ExplainableBoostingRegressor, LinearRegression, RegressionTree\n",
    "from interpret.perf import RegressionPerf\n",
    "\n",
    "from sklearn.linear_model import LinearRegression as SKLin"
   ]
  },
  {
   "cell_type": "code",
   "execution_count": 132,
   "metadata": {},
   "outputs": [
    {
     "data": {
      "text/html": [
       "<div>\n",
       "<style scoped>\n",
       "    .dataframe tbody tr th:only-of-type {\n",
       "        vertical-align: middle;\n",
       "    }\n",
       "\n",
       "    .dataframe tbody tr th {\n",
       "        vertical-align: top;\n",
       "    }\n",
       "\n",
       "    .dataframe thead th {\n",
       "        text-align: right;\n",
       "    }\n",
       "</style>\n",
       "<table border=\"1\" class=\"dataframe\">\n",
       "  <thead>\n",
       "    <tr style=\"text-align: right;\">\n",
       "      <th></th>\n",
       "      <th>Mkt_RF</th>\n",
       "      <th>SMB</th>\n",
       "      <th>HML</th>\n",
       "      <th>RMW</th>\n",
       "      <th>CMA</th>\n",
       "      <th>MOM</th>\n",
       "      <th>RF</th>\n",
       "    </tr>\n",
       "    <tr>\n",
       "      <th>Date</th>\n",
       "      <th></th>\n",
       "      <th></th>\n",
       "      <th></th>\n",
       "      <th></th>\n",
       "      <th></th>\n",
       "      <th></th>\n",
       "      <th></th>\n",
       "    </tr>\n",
       "  </thead>\n",
       "  <tbody>\n",
       "    <tr>\n",
       "      <th>1963-07-01</th>\n",
       "      <td>-0.0039</td>\n",
       "      <td>-0.0041</td>\n",
       "      <td>-0.0097</td>\n",
       "      <td>0.0068</td>\n",
       "      <td>-0.0118</td>\n",
       "      <td>0.0090</td>\n",
       "      <td>0.0027</td>\n",
       "    </tr>\n",
       "    <tr>\n",
       "      <th>1963-08-01</th>\n",
       "      <td>0.0507</td>\n",
       "      <td>-0.0080</td>\n",
       "      <td>0.0180</td>\n",
       "      <td>0.0036</td>\n",
       "      <td>-0.0035</td>\n",
       "      <td>0.0101</td>\n",
       "      <td>0.0025</td>\n",
       "    </tr>\n",
       "    <tr>\n",
       "      <th>1963-09-01</th>\n",
       "      <td>-0.0157</td>\n",
       "      <td>-0.0052</td>\n",
       "      <td>0.0013</td>\n",
       "      <td>-0.0071</td>\n",
       "      <td>0.0029</td>\n",
       "      <td>0.0019</td>\n",
       "      <td>0.0027</td>\n",
       "    </tr>\n",
       "    <tr>\n",
       "      <th>1963-10-01</th>\n",
       "      <td>0.0253</td>\n",
       "      <td>-0.0139</td>\n",
       "      <td>-0.0010</td>\n",
       "      <td>0.0280</td>\n",
       "      <td>-0.0201</td>\n",
       "      <td>0.0312</td>\n",
       "      <td>0.0029</td>\n",
       "    </tr>\n",
       "    <tr>\n",
       "      <th>1963-11-01</th>\n",
       "      <td>-0.0085</td>\n",
       "      <td>-0.0088</td>\n",
       "      <td>0.0175</td>\n",
       "      <td>-0.0051</td>\n",
       "      <td>0.0224</td>\n",
       "      <td>-0.0074</td>\n",
       "      <td>0.0027</td>\n",
       "    </tr>\n",
       "    <tr>\n",
       "      <th>...</th>\n",
       "      <td>...</td>\n",
       "      <td>...</td>\n",
       "      <td>...</td>\n",
       "      <td>...</td>\n",
       "      <td>...</td>\n",
       "      <td>...</td>\n",
       "      <td>...</td>\n",
       "    </tr>\n",
       "    <tr>\n",
       "      <th>2022-04-01</th>\n",
       "      <td>-0.0946</td>\n",
       "      <td>-0.0040</td>\n",
       "      <td>0.0619</td>\n",
       "      <td>0.0363</td>\n",
       "      <td>0.0592</td>\n",
       "      <td>0.0489</td>\n",
       "      <td>0.0001</td>\n",
       "    </tr>\n",
       "    <tr>\n",
       "      <th>2022-05-01</th>\n",
       "      <td>-0.0034</td>\n",
       "      <td>-0.0006</td>\n",
       "      <td>0.0841</td>\n",
       "      <td>0.0144</td>\n",
       "      <td>0.0398</td>\n",
       "      <td>0.0248</td>\n",
       "      <td>0.0003</td>\n",
       "    </tr>\n",
       "    <tr>\n",
       "      <th>2022-06-01</th>\n",
       "      <td>-0.0843</td>\n",
       "      <td>0.0130</td>\n",
       "      <td>-0.0597</td>\n",
       "      <td>0.0185</td>\n",
       "      <td>-0.0470</td>\n",
       "      <td>0.0079</td>\n",
       "      <td>0.0006</td>\n",
       "    </tr>\n",
       "    <tr>\n",
       "      <th>2022-07-01</th>\n",
       "      <td>0.0957</td>\n",
       "      <td>0.0187</td>\n",
       "      <td>-0.0410</td>\n",
       "      <td>0.0068</td>\n",
       "      <td>-0.0694</td>\n",
       "      <td>-0.0396</td>\n",
       "      <td>0.0008</td>\n",
       "    </tr>\n",
       "    <tr>\n",
       "      <th>2022-08-01</th>\n",
       "      <td>-0.0378</td>\n",
       "      <td>0.0151</td>\n",
       "      <td>0.0031</td>\n",
       "      <td>-0.0480</td>\n",
       "      <td>0.0131</td>\n",
       "      <td>0.0209</td>\n",
       "      <td>0.0019</td>\n",
       "    </tr>\n",
       "  </tbody>\n",
       "</table>\n",
       "<p>710 rows × 7 columns</p>\n",
       "</div>"
      ],
      "text/plain": [
       "            Mkt_RF     SMB     HML     RMW     CMA     MOM      RF\n",
       "Date                                                              \n",
       "1963-07-01 -0.0039 -0.0041 -0.0097  0.0068 -0.0118  0.0090  0.0027\n",
       "1963-08-01  0.0507 -0.0080  0.0180  0.0036 -0.0035  0.0101  0.0025\n",
       "1963-09-01 -0.0157 -0.0052  0.0013 -0.0071  0.0029  0.0019  0.0027\n",
       "1963-10-01  0.0253 -0.0139 -0.0010  0.0280 -0.0201  0.0312  0.0029\n",
       "1963-11-01 -0.0085 -0.0088  0.0175 -0.0051  0.0224 -0.0074  0.0027\n",
       "...            ...     ...     ...     ...     ...     ...     ...\n",
       "2022-04-01 -0.0946 -0.0040  0.0619  0.0363  0.0592  0.0489  0.0001\n",
       "2022-05-01 -0.0034 -0.0006  0.0841  0.0144  0.0398  0.0248  0.0003\n",
       "2022-06-01 -0.0843  0.0130 -0.0597  0.0185 -0.0470  0.0079  0.0006\n",
       "2022-07-01  0.0957  0.0187 -0.0410  0.0068 -0.0694 -0.0396  0.0008\n",
       "2022-08-01 -0.0378  0.0151  0.0031 -0.0480  0.0131  0.0209  0.0019\n",
       "\n",
       "[710 rows x 7 columns]"
      ]
     },
     "execution_count": 132,
     "metadata": {},
     "output_type": "execute_result"
    }
   ],
   "source": [
    "fama_french(from_web=True)"
   ]
  },
  {
   "cell_type": "code",
   "execution_count": 136,
   "metadata": {},
   "outputs": [
    {
     "data": {
      "text/html": [
       "<div>\n",
       "<style scoped>\n",
       "    .dataframe tbody tr th:only-of-type {\n",
       "        vertical-align: middle;\n",
       "    }\n",
       "\n",
       "    .dataframe tbody tr th {\n",
       "        vertical-align: top;\n",
       "    }\n",
       "\n",
       "    .dataframe thead th {\n",
       "        text-align: right;\n",
       "    }\n",
       "</style>\n",
       "<table border=\"1\" class=\"dataframe\">\n",
       "  <thead>\n",
       "    <tr style=\"text-align: right;\">\n",
       "      <th></th>\n",
       "      <th>Ret</th>\n",
       "      <th>Mkt_RF</th>\n",
       "      <th>SMB</th>\n",
       "      <th>HML</th>\n",
       "      <th>RMW</th>\n",
       "      <th>CMA</th>\n",
       "      <th>MOM</th>\n",
       "      <th>RF</th>\n",
       "    </tr>\n",
       "    <tr>\n",
       "      <th>Date</th>\n",
       "      <th></th>\n",
       "      <th></th>\n",
       "      <th></th>\n",
       "      <th></th>\n",
       "      <th></th>\n",
       "      <th></th>\n",
       "      <th></th>\n",
       "      <th></th>\n",
       "    </tr>\n",
       "  </thead>\n",
       "  <tbody>\n",
       "    <tr>\n",
       "      <th>2022-04-01</th>\n",
       "      <td>-0.097131</td>\n",
       "      <td>-0.0946</td>\n",
       "      <td>-0.0040</td>\n",
       "      <td>0.0619</td>\n",
       "      <td>0.0363</td>\n",
       "      <td>0.0592</td>\n",
       "      <td>0.0489</td>\n",
       "      <td>0.0001</td>\n",
       "    </tr>\n",
       "    <tr>\n",
       "      <th>2022-05-01</th>\n",
       "      <td>-0.055883</td>\n",
       "      <td>-0.0034</td>\n",
       "      <td>-0.0006</td>\n",
       "      <td>0.0841</td>\n",
       "      <td>0.0144</td>\n",
       "      <td>0.0398</td>\n",
       "      <td>0.0248</td>\n",
       "      <td>0.0003</td>\n",
       "    </tr>\n",
       "    <tr>\n",
       "      <th>2022-06-01</th>\n",
       "      <td>-0.080080</td>\n",
       "      <td>-0.0843</td>\n",
       "      <td>0.0130</td>\n",
       "      <td>-0.0597</td>\n",
       "      <td>0.0185</td>\n",
       "      <td>-0.0470</td>\n",
       "      <td>0.0079</td>\n",
       "      <td>0.0006</td>\n",
       "    </tr>\n",
       "    <tr>\n",
       "      <th>2022-07-01</th>\n",
       "      <td>0.188634</td>\n",
       "      <td>0.0957</td>\n",
       "      <td>0.0187</td>\n",
       "      <td>-0.0410</td>\n",
       "      <td>0.0068</td>\n",
       "      <td>-0.0694</td>\n",
       "      <td>-0.0396</td>\n",
       "      <td>0.0008</td>\n",
       "    </tr>\n",
       "    <tr>\n",
       "      <th>2022-08-01</th>\n",
       "      <td>-0.032552</td>\n",
       "      <td>-0.0378</td>\n",
       "      <td>0.0151</td>\n",
       "      <td>0.0031</td>\n",
       "      <td>-0.0480</td>\n",
       "      <td>0.0131</td>\n",
       "      <td>0.0209</td>\n",
       "      <td>0.0019</td>\n",
       "    </tr>\n",
       "  </tbody>\n",
       "</table>\n",
       "</div>"
      ],
      "text/plain": [
       "                 Ret  Mkt_RF     SMB     HML     RMW     CMA     MOM      RF\n",
       "Date                                                                        \n",
       "2022-04-01 -0.097131 -0.0946 -0.0040  0.0619  0.0363  0.0592  0.0489  0.0001\n",
       "2022-05-01 -0.055883 -0.0034 -0.0006  0.0841  0.0144  0.0398  0.0248  0.0003\n",
       "2022-06-01 -0.080080 -0.0843  0.0130 -0.0597  0.0185 -0.0470  0.0079  0.0006\n",
       "2022-07-01  0.188634  0.0957  0.0187 -0.0410  0.0068 -0.0694 -0.0396  0.0008\n",
       "2022-08-01 -0.032552 -0.0378  0.0151  0.0031 -0.0480  0.0131  0.0209  0.0019"
      ]
     },
     "execution_count": 136,
     "metadata": {},
     "output_type": "execute_result"
    }
   ],
   "source": [
    "aapl = yf.download(\"AAPL\", interval=\"1mo\", progress=False)\n",
    "aapl.index = pd.to_datetime(aapl.index)\n",
    "aapl = aapl.dropna()\n",
    "ff = fama_french(from_web=True)\n",
    "\n",
    "def set_first(df, inplace=False):\n",
    "    with warnings.catch_warnings():\n",
    "        warnings.simplefilter(\"ignore\")\n",
    "        df.loc[:,\"Date\"] = [f\"{y}-{m}\" for y, m in zip(df.index.year.to_list(), df.index.month.to_list())]\n",
    "        df = df.reset_index(drop=True)\n",
    "        df.loc[:,\"Date\"] = pd.to_datetime(df.loc[:,\"Date\"])\n",
    "        df = df.set_index(\"Date\", drop=True)\n",
    "        if not inplace:\n",
    "            return df\n",
    "\n",
    "ff = set_first(ff)\n",
    "aapl = set_first(aapl)\n",
    "\n",
    "aapl.loc[:,\"Ret\"] = aapl.loc[:,\"Adj Close\"].pct_change()\n",
    "\n",
    "df = pd.merge(aapl.loc[:,\"Ret\"], ff, left_index=True, right_index=True)\n",
    "\n",
    "df = df.dropna()\n",
    "\n",
    "df.tail()"
   ]
  },
  {
   "cell_type": "code",
   "execution_count": 140,
   "metadata": {},
   "outputs": [],
   "source": [
    "df[\"Ret\"] -= df[\"RF\"]\n",
    "data = df.copy()\n",
    "data = data.last(\"5Y\")\n",
    "# data.to_csv(\"../Data/apple_factor_returns.csv\")\n",
    "X, y = data.drop([\"Ret\", \"RF\"], axis=1), data[[\"Ret\"]]"
   ]
  },
  {
   "cell_type": "code",
   "execution_count": 141,
   "metadata": {},
   "outputs": [
    {
     "data": {
      "text/html": [
       "<!-- http://127.0.0.1:7001/11269380352/ -->\n",
       "<a href=\"http://127.0.0.1:7001/11269380352/\" target=\"_new\">Open in new window</a><iframe src=\"http://127.0.0.1:7001/11269380352/\" width=100% height=800 frameBorder=\"0\"></iframe>"
      ]
     },
     "metadata": {},
     "output_type": "display_data"
    }
   ],
   "source": [
    "marginal = Marginal().explain_data(X, y, name = 'Data')\n",
    "\n",
    "ebm = ExplainableBoostingRegressor(random_state=1, n_jobs=-1)\n",
    "ebm.fit(X, y)\n",
    "\n",
    "ebm_global = ebm.explain_global(name='EBM')\n",
    "\n",
    "ebm_local = ebm.explain_local(X[:-5], y[:-5], name='EBM')\n",
    "\n",
    "ebm_perf = RegressionPerf(ebm.predict).explain_perf(X, y, name='EBM')\n",
    "\n",
    "lr = LinearRegression(linear_class=SKLin, fit_intercept=False)\n",
    "lr.fit(X, y)\n",
    "\n",
    "lr_a = LinearRegression(linear_class=SKLin, fit_intercept=True)\n",
    "lr_a.fit(X, y)\n",
    "\n",
    "rt = RegressionTree(random_state=1)\n",
    "rt.fit(X, y)\n",
    "\n",
    "lr_perf = RegressionPerf(lr.predict).explain_perf(X, y, name='Linear Regression No Intercept')\n",
    "lr_a_perf = RegressionPerf(lr_a.predict).explain_perf(X, y, name='Linear Regression Intercept')\n",
    "rt_perf = RegressionPerf(rt.predict).explain_perf(X, y, name='Regression Tree')\n",
    "\n",
    "lr_global = lr.explain_global(name='Linear Regression No Intercept')\n",
    "lr_a_global = lr_a.explain_global(name='Linear Regression Intercept')\n",
    "rt_global = rt.explain_global(name='Regression Tree')\n",
    "\n",
    "show([marginal, lr_global, lr_a_global, lr_perf, lr_a_perf, rt_global, rt_perf, ebm_global, ebm_perf])"
   ]
  },
  {
   "cell_type": "code",
   "execution_count": 108,
   "metadata": {},
   "outputs": [],
   "source": [
    "marginal = Marginal().explain_data(X, y, name = 'Data')\n",
    "# show(marginal)"
   ]
  },
  {
   "cell_type": "code",
   "execution_count": 109,
   "metadata": {},
   "outputs": [
    {
     "data": {
      "text/plain": [
       "ExplainableBoostingRegressor(n_jobs=-1, random_state=1)"
      ]
     },
     "execution_count": 109,
     "metadata": {},
     "output_type": "execute_result"
    }
   ],
   "source": [
    "ebm = ExplainableBoostingRegressor(random_state=1, n_jobs=-1)\n",
    "ebm.fit(X, y)"
   ]
  },
  {
   "cell_type": "code",
   "execution_count": 110,
   "metadata": {},
   "outputs": [],
   "source": [
    "ebm_global = ebm.explain_global(name='EBM')\n",
    "# show(ebm_global)"
   ]
  },
  {
   "cell_type": "code",
   "execution_count": 111,
   "metadata": {},
   "outputs": [],
   "source": [
    "ebm_local = ebm.explain_local(X[:-5], y[:-5], name='EBM')\n",
    "# show(ebm_local)"
   ]
  },
  {
   "cell_type": "code",
   "execution_count": 112,
   "metadata": {},
   "outputs": [],
   "source": [
    "ebm_perf = RegressionPerf(ebm.predict).explain_perf(X, y, name='EBM')\n",
    "# show(ebm_perf)"
   ]
  },
  {
   "cell_type": "code",
   "execution_count": 129,
   "metadata": {},
   "outputs": [
    {
     "name": "stderr",
     "output_type": "stream",
     "text": [
      "/Users/wyattnechtman/miniforge3/lib/python3.9/site-packages/interpret/glassbox/linear.py:66: UserWarning:\n",
      "\n",
      "With alpha=0, this algorithm does not converge well. You are advised to use the LinearRegression estimator\n",
      "\n",
      "/Users/wyattnechtman/miniforge3/lib/python3.9/site-packages/sklearn/linear_model/_coordinate_descent.py:647: UserWarning:\n",
      "\n",
      "Coordinate descent with no regularization may lead to unexpected results and is discouraged.\n",
      "\n",
      "/Users/wyattnechtman/miniforge3/lib/python3.9/site-packages/sklearn/linear_model/_coordinate_descent.py:647: ConvergenceWarning:\n",
      "\n",
      "Objective did not converge. You might want to increase the number of iterations, check the scale of the features or consider increasing regularisation. Duality gap: 8.990e-02, tolerance: 4.634e-05 Linear regression models with null weight for the l1 regularization term are more efficiently fitted using one of the solvers implemented in sklearn.linear_model.Ridge/RidgeCV instead.\n",
      "\n"
     ]
    },
    {
     "data": {
      "text/plain": [
       "<interpret.glassbox.decisiontree.RegressionTree at 0x29ee03340>"
      ]
     },
     "execution_count": 129,
     "metadata": {},
     "output_type": "execute_result"
    }
   ],
   "source": [
    "# lr = LinearRegression(random_state=1, alpha=0)\n",
    "lr = LinearRegression(linear_class=SKLin)\n",
    "lr.fit(X, y)\n",
    "\n",
    "rt = RegressionTree(random_state=1)\n",
    "rt.fit(X, y)"
   ]
  },
  {
   "cell_type": "code",
   "execution_count": 126,
   "metadata": {},
   "outputs": [
    {
     "data": {
      "text/html": [
       "<!-- http://127.0.0.1:7001/11253158048/ -->\n",
       "<iframe src=\"http://127.0.0.1:7001/11253158048/\" width=100% height=800 frameBorder=\"0\"></iframe>"
      ]
     },
     "metadata": {},
     "output_type": "display_data"
    }
   ],
   "source": [
    "lr_perf = RegressionPerf(lr.predict).explain_perf(X, y, name='Linear Regression')\n",
    "rt_perf = RegressionPerf(rt.predict).explain_perf(X, y, name='Regression Tree')\n",
    "\n",
    "show(lr_perf)\n",
    "# show(rt_perf)\n",
    "# show(ebm_perf)"
   ]
  },
  {
   "cell_type": "code",
   "execution_count": 127,
   "metadata": {},
   "outputs": [
    {
     "data": {
      "text/html": [
       "<!-- http://127.0.0.1:7001/11253789408/ -->\n",
       "<iframe src=\"http://127.0.0.1:7001/11253789408/\" width=100% height=800 frameBorder=\"0\"></iframe>"
      ]
     },
     "metadata": {},
     "output_type": "display_data"
    }
   ],
   "source": [
    "lr_global = lr.explain_global(name='Linear Regression')\n",
    "rt_global = rt.explain_global(name='Regression Tree')\n",
    "\n",
    "show(lr_global)\n",
    "# show(rt_global)\n",
    "# show(ebm_global)"
   ]
  },
  {
   "cell_type": "code",
   "execution_count": 116,
   "metadata": {},
   "outputs": [
    {
     "data": {
      "text/html": [
       "<!-- http://127.0.0.1:7001/11249740608/ -->\n",
       "<a href=\"http://127.0.0.1:7001/11249740608/\" target=\"_new\">Open in new window</a><iframe src=\"http://127.0.0.1:7001/11249740608/\" width=100% height=800 frameBorder=\"0\"></iframe>"
      ]
     },
     "metadata": {},
     "output_type": "display_data"
    }
   ],
   "source": [
    "show([marginal, lr_global, lr_perf, rt_global, rt_perf, ebm_global, ebm_perf])"
   ]
  },
  {
   "cell_type": "code",
   "execution_count": null,
   "metadata": {},
   "outputs": [],
   "source": []
  }
 ],
 "metadata": {
  "kernelspec": {
   "display_name": "Python 3.9.10 64-bit ('miniforge3')",
   "language": "python",
   "name": "python3"
  },
  "language_info": {
   "codemirror_mode": {
    "name": "ipython",
    "version": 3
   },
   "file_extension": ".py",
   "mimetype": "text/x-python",
   "name": "python",
   "nbconvert_exporter": "python",
   "pygments_lexer": "ipython3",
   "version": "3.9.10"
  },
  "orig_nbformat": 4,
  "vscode": {
   "interpreter": {
    "hash": "3d1021ef7d1acdd48d1fa6dd72679ee9b9e590da5c4392dffcca32408abbec9f"
   }
  }
 },
 "nbformat": 4,
 "nbformat_minor": 2
}
