{
 "cells": [
  {
   "cell_type": "code",
   "execution_count": 18,
   "metadata": {},
   "outputs": [],
   "source": [
    "import pandas as pd\n",
    "import yfinance as yf\n",
    "import warnings\n",
    "\n",
    "from support import fama_french\n",
    "\n",
    "from sklearn.linear_model import LinearRegression, Lasso"
   ]
  },
  {
   "cell_type": "code",
   "execution_count": 19,
   "metadata": {},
   "outputs": [
    {
     "data": {
      "text/html": [
       "<div>\n",
       "<style scoped>\n",
       "    .dataframe tbody tr th:only-of-type {\n",
       "        vertical-align: middle;\n",
       "    }\n",
       "\n",
       "    .dataframe tbody tr th {\n",
       "        vertical-align: top;\n",
       "    }\n",
       "\n",
       "    .dataframe thead th {\n",
       "        text-align: right;\n",
       "    }\n",
       "</style>\n",
       "<table border=\"1\" class=\"dataframe\">\n",
       "  <thead>\n",
       "    <tr style=\"text-align: right;\">\n",
       "      <th></th>\n",
       "      <th>Ret</th>\n",
       "      <th>Mkt_RF</th>\n",
       "      <th>SMB</th>\n",
       "      <th>HML</th>\n",
       "      <th>RMW</th>\n",
       "      <th>CMA</th>\n",
       "      <th>MOM</th>\n",
       "      <th>RF</th>\n",
       "    </tr>\n",
       "    <tr>\n",
       "      <th>Date</th>\n",
       "      <th></th>\n",
       "      <th></th>\n",
       "      <th></th>\n",
       "      <th></th>\n",
       "      <th></th>\n",
       "      <th></th>\n",
       "      <th></th>\n",
       "      <th></th>\n",
       "    </tr>\n",
       "  </thead>\n",
       "  <tbody>\n",
       "    <tr>\n",
       "      <th>2022-04-01</th>\n",
       "      <td>-0.097131</td>\n",
       "      <td>-0.0946</td>\n",
       "      <td>-0.0040</td>\n",
       "      <td>0.0619</td>\n",
       "      <td>0.0363</td>\n",
       "      <td>0.0592</td>\n",
       "      <td>0.0489</td>\n",
       "      <td>0.0001</td>\n",
       "    </tr>\n",
       "    <tr>\n",
       "      <th>2022-05-01</th>\n",
       "      <td>-0.055883</td>\n",
       "      <td>-0.0034</td>\n",
       "      <td>-0.0006</td>\n",
       "      <td>0.0841</td>\n",
       "      <td>0.0144</td>\n",
       "      <td>0.0398</td>\n",
       "      <td>0.0248</td>\n",
       "      <td>0.0003</td>\n",
       "    </tr>\n",
       "    <tr>\n",
       "      <th>2022-06-01</th>\n",
       "      <td>-0.080080</td>\n",
       "      <td>-0.0843</td>\n",
       "      <td>0.0130</td>\n",
       "      <td>-0.0597</td>\n",
       "      <td>0.0185</td>\n",
       "      <td>-0.0470</td>\n",
       "      <td>0.0079</td>\n",
       "      <td>0.0006</td>\n",
       "    </tr>\n",
       "    <tr>\n",
       "      <th>2022-07-01</th>\n",
       "      <td>0.188634</td>\n",
       "      <td>0.0957</td>\n",
       "      <td>0.0187</td>\n",
       "      <td>-0.0410</td>\n",
       "      <td>0.0068</td>\n",
       "      <td>-0.0694</td>\n",
       "      <td>-0.0396</td>\n",
       "      <td>0.0008</td>\n",
       "    </tr>\n",
       "    <tr>\n",
       "      <th>2022-08-01</th>\n",
       "      <td>-0.032552</td>\n",
       "      <td>-0.0378</td>\n",
       "      <td>0.0151</td>\n",
       "      <td>0.0031</td>\n",
       "      <td>-0.0480</td>\n",
       "      <td>0.0131</td>\n",
       "      <td>0.0209</td>\n",
       "      <td>0.0019</td>\n",
       "    </tr>\n",
       "  </tbody>\n",
       "</table>\n",
       "</div>"
      ],
      "text/plain": [
       "                 Ret  Mkt_RF     SMB     HML     RMW     CMA     MOM      RF\n",
       "Date                                                                        \n",
       "2022-04-01 -0.097131 -0.0946 -0.0040  0.0619  0.0363  0.0592  0.0489  0.0001\n",
       "2022-05-01 -0.055883 -0.0034 -0.0006  0.0841  0.0144  0.0398  0.0248  0.0003\n",
       "2022-06-01 -0.080080 -0.0843  0.0130 -0.0597  0.0185 -0.0470  0.0079  0.0006\n",
       "2022-07-01  0.188634  0.0957  0.0187 -0.0410  0.0068 -0.0694 -0.0396  0.0008\n",
       "2022-08-01 -0.032552 -0.0378  0.0151  0.0031 -0.0480  0.0131  0.0209  0.0019"
      ]
     },
     "execution_count": 19,
     "metadata": {},
     "output_type": "execute_result"
    }
   ],
   "source": [
    "aapl = yf.download(\"AAPL\", interval=\"1mo\", progress=False)\n",
    "aapl.index = pd.to_datetime(aapl.index)\n",
    "aapl = aapl.dropna()\n",
    "ff = fama_french(from_web=True)\n",
    "\n",
    "def set_first(df, inplace=False):\n",
    "    with warnings.catch_warnings():\n",
    "        warnings.simplefilter(\"ignore\")\n",
    "        df.loc[:,\"Date\"] = [f\"{y}-{m}\" for y, m in zip(df.index.year.to_list(), df.index.month.to_list())]\n",
    "        df = df.reset_index(drop=True)\n",
    "        df.loc[:,\"Date\"] = pd.to_datetime(df.loc[:,\"Date\"])\n",
    "        df = df.set_index(\"Date\", drop=True)\n",
    "        if not inplace:\n",
    "            return df\n",
    "\n",
    "ff = set_first(ff)\n",
    "aapl = set_first(aapl)\n",
    "\n",
    "aapl.loc[:,\"Ret\"] = aapl.loc[:,\"Adj Close\"].pct_change()\n",
    "\n",
    "df = pd.merge(aapl.loc[:,\"Ret\"], ff, left_index=True, right_index=True)\n",
    "\n",
    "df = df.dropna()\n",
    "\n",
    "df.tail()"
   ]
  },
  {
   "cell_type": "code",
   "execution_count": 3,
   "metadata": {},
   "outputs": [
    {
     "name": "stderr",
     "output_type": "stream",
     "text": [
      "/var/folders/wh/63dtvrx97_31k2y9clt5xgwc0000gn/T/ipykernel_32309/3655766512.py:5: SettingWithCopyWarning: \n",
      "A value is trying to be set on a copy of a slice from a DataFrame.\n",
      "Try using .loc[row_indexer,col_indexer] = value instead\n",
      "\n",
      "See the caveats in the documentation: https://pandas.pydata.org/pandas-docs/stable/user_guide/indexing.html#returning-a-view-versus-a-copy\n",
      "  mkt[\"Ret\"] = mkt[\"Adj Close\"].pct_change()\n"
     ]
    }
   ],
   "source": [
    "mkt = yf.download(\"SPY\", interval=\"1mo\", progress=False)\n",
    "mkt.index = pd.to_datetime(mkt.index)\n",
    "mkt = mkt.dropna()\n",
    "set_first(mkt)\n",
    "mkt[\"Ret\"] = mkt[\"Adj Close\"].pct_change()\n",
    "mkt = pd.merge(mkt.loc[:,\"Ret\"], ff, left_index=True, right_index=True)\n",
    "mkt = mkt[[\"Ret\", \"RF\"]]\n",
    "mkt = pd.merge(aapl[\"Ret\"], mkt, left_index=True, right_index=True)\n",
    "mkt = mkt.dropna()\n",
    "mkt = mkt.sub(mkt[\"RF\"], axis=0).drop(\"RF\", axis=1)\n",
    "mkt.columns = [\"AAPL\", \"MKT\"]\n",
    "\n",
    "mkt = mkt.last(\"5Y\")"
   ]
  },
  {
   "cell_type": "code",
   "execution_count": 20,
   "metadata": {},
   "outputs": [
    {
     "name": "stderr",
     "output_type": "stream",
     "text": [
      "/var/folders/wh/63dtvrx97_31k2y9clt5xgwc0000gn/T/ipykernel_32309/3655766512.py:5: SettingWithCopyWarning: \n",
      "A value is trying to be set on a copy of a slice from a DataFrame.\n",
      "Try using .loc[row_indexer,col_indexer] = value instead\n",
      "\n",
      "See the caveats in the documentation: https://pandas.pydata.org/pandas-docs/stable/user_guide/indexing.html#returning-a-view-versus-a-copy\n",
      "  mkt[\"Ret\"] = mkt[\"Adj Close\"].pct_change()\n"
     ]
    }
   ],
   "source": [
    "mkt = yf.download(\"SPY\", interval=\"1mo\", progress=False)\n",
    "mkt.index = pd.to_datetime(mkt.index)\n",
    "mkt = mkt.dropna()\n",
    "set_first(mkt)\n",
    "mkt[\"Ret\"] = mkt[\"Adj Close\"].pct_change()\n",
    "mkt = pd.merge(mkt.loc[:,\"Ret\"], ff, left_index=True, right_index=True)\n",
    "mkt = mkt[[\"Ret\", \"RF\"]]\n",
    "mkt = pd.merge(aapl[\"Ret\"], mkt, left_index=True, right_index=True)\n",
    "mkt = mkt.dropna()\n",
    "mkt = mkt.sub(mkt[\"RF\"], axis=0).drop(\"RF\", axis=1)\n",
    "mkt.columns = [\"AAPL\", \"MKT\"]\n",
    "\n",
    "mkt = mkt.last(\"5Y\")"
   ]
  },
  {
   "cell_type": "code",
   "execution_count": 21,
   "metadata": {},
   "outputs": [],
   "source": [
    "df[\"Ret\"] -= df[\"RF\"]\n",
    "data = df.last(\"5Y\")\n",
    "X, y = data.drop([\"Ret\", \"RF\"], axis=1), data[[\"Ret\"]]"
   ]
  },
  {
   "cell_type": "code",
   "execution_count": 29,
   "metadata": {},
   "outputs": [
    {
     "name": "stdout",
     "output_type": "stream",
     "text": [
      "Data as of October 13\n",
      "Actual Yahoo Beta 5Y Monthly: 1.25\n",
      "Calculated Yahoo Beta 5Y Monthly: 1.25\n",
      "Calculated FF Beta 5Y Monthly: 1.35\n"
     ]
    }
   ],
   "source": [
    "yahoo_lr = LinearRegression(fit_intercept=False).fit(mkt[\"MKT\"].to_numpy().reshape(-1, 1), mkt[\"AAPL\"].to_numpy().reshape(-1, 1))\n",
    "fama_lr = LinearRegression(fit_intercept=False).fit(X, y)\n",
    "yahoo_beta = yahoo_lr.coef_.flatten()[0]\n",
    "fama_beta = fama_lr.coef_.flatten()[0]\n",
    "print(\"Data as of October 13\")\n",
    "print(\"Actual Yahoo Beta 5Y Monthly: 1.25\")\n",
    "print(f\"Calculated Yahoo Beta 5Y Monthly: {yahoo_beta:.2f}\")\n",
    "print(f\"Calculated FF Beta 5Y Monthly: {fama_beta:.2f}\")"
   ]
  },
  {
   "cell_type": "code",
   "execution_count": 31,
   "metadata": {},
   "outputs": [
    {
     "name": "stdout",
     "output_type": "stream",
     "text": [
      "CAPM\n",
      "\n",
      "With Intercept:\n",
      "Mkt_RF Beta: 1.18\n",
      "Alpha: 0.02\n",
      "\n",
      "Without Intercept:\n",
      "Mkt_RF Beta: 1.24\n"
     ]
    }
   ],
   "source": [
    "print(\"CAPM\\n\")\n",
    "\n",
    "print(\"With Intercept:\")\n",
    "x = pd.DataFrame(X.iloc[:,0])\n",
    "int_cpt = True\n",
    "linreg = LinearRegression(fit_intercept=int_cpt).fit(x, y)\n",
    "betas = linreg.coef_.flatten().tolist()\n",
    "betanames = X.columns.tolist()\n",
    "for name, beta in zip(betanames, betas):\n",
    "    print(f\"{name} Beta: {beta:.2f}\")\n",
    "if int_cpt:\n",
    "    print(f\"Alpha: {linreg.intercept_[0]:.2f}\")\n",
    "\n",
    "print(\"\\nWithout Intercept:\")\n",
    "x = pd.DataFrame(X.iloc[:,0])\n",
    "int_cpt = False\n",
    "linreg = LinearRegression(fit_intercept=int_cpt).fit(x, y)\n",
    "betas = linreg.coef_.flatten().tolist()\n",
    "betanames = X.columns.tolist()\n",
    "for name, beta in zip(betanames, betas):\n",
    "    print(f\"{name} Beta: {beta:.2f}\")\n",
    "if int_cpt:\n",
    "    print(f\"Alpha: {linreg.intercept_[0]:.2f}\")"
   ]
  },
  {
   "cell_type": "code",
   "execution_count": 15,
   "metadata": {},
   "outputs": [
    {
     "name": "stdout",
     "output_type": "stream",
     "text": [
      "3 Factor Model\n",
      "\n",
      "With Intercept:\n",
      "Mkt_RF Beta: 1.26\n",
      "SMB Beta: -0.38\n",
      "HML Beta: -0.42\n",
      "Alpha: 0.02\n",
      "\n",
      "Without Intercept:\n",
      "Mkt_RF Beta: 1.31\n",
      "SMB Beta: -0.42\n",
      "HML Beta: -0.43\n"
     ]
    }
   ],
   "source": [
    "print(\"3 Factor Model\\n\")\n",
    "\n",
    "print(\"With Intercept:\")\n",
    "x = pd.DataFrame(X.iloc[:,:3])\n",
    "int_cpt = True\n",
    "linreg = LinearRegression(fit_intercept=int_cpt).fit(x, y)\n",
    "betas = linreg.coef_.flatten().tolist()\n",
    "betanames = X.columns.tolist()\n",
    "for name, beta in zip(betanames, betas):\n",
    "    print(f\"{name} Beta: {beta:.2f}\")\n",
    "if int_cpt:\n",
    "    print(f\"Alpha: {linreg.intercept_[0]:.2f}\")\n",
    "\n",
    "print(\"\\nWithout Intercept:\")\n",
    "x = pd.DataFrame(X.iloc[:,:3])\n",
    "int_cpt = False\n",
    "linreg = LinearRegression(fit_intercept=int_cpt).fit(x, y)\n",
    "betas = linreg.coef_.flatten().tolist()\n",
    "betanames = X.columns.tolist()\n",
    "for name, beta in zip(betanames, betas):\n",
    "    print(f\"{name} Beta: {beta:.2f}\")\n",
    "if int_cpt:\n",
    "    print(f\"Alpha: {linreg.intercept_[0]:.2f}\")"
   ]
  },
  {
   "cell_type": "code",
   "execution_count": 16,
   "metadata": {},
   "outputs": [
    {
     "name": "stdout",
     "output_type": "stream",
     "text": [
      "5 Factor\n",
      "\n",
      "With Intercept:\n",
      "Mkt_RF Beta: 1.24\n",
      "SMB Beta: 0.02\n",
      "HML Beta: -0.80\n",
      "RMW Beta: 0.77\n",
      "CMA Beta: 0.61\n",
      "Alpha: 0.01\n",
      "\n",
      "Without Intercept:\n",
      "Mkt_RF Beta: 1.28\n",
      "SMB Beta: 0.06\n",
      "HML Beta: -0.88\n",
      "RMW Beta: 0.87\n",
      "CMA Beta: 0.74\n"
     ]
    }
   ],
   "source": [
    "print(\"5 Factor\\n\")\n",
    "\n",
    "print(\"With Intercept:\")\n",
    "x = pd.DataFrame(X.iloc[:,:5])\n",
    "int_cpt = True\n",
    "linreg = LinearRegression(fit_intercept=int_cpt).fit(x, y)\n",
    "betas = linreg.coef_.flatten().tolist()\n",
    "betanames = X.columns.tolist()\n",
    "for name, beta in zip(betanames, betas):\n",
    "    print(f\"{name} Beta: {beta:.2f}\")\n",
    "if int_cpt:\n",
    "    print(f\"Alpha: {linreg.intercept_[0]:.2f}\")\n",
    "\n",
    "print(\"\\nWithout Intercept:\")\n",
    "x = pd.DataFrame(X.iloc[:,:5])\n",
    "int_cpt = False\n",
    "linreg = LinearRegression(fit_intercept=int_cpt).fit(x, y)\n",
    "betas = linreg.coef_.flatten().tolist()\n",
    "betanames = X.columns.tolist()\n",
    "for name, beta in zip(betanames, betas):\n",
    "    print(f\"{name} Beta: {beta:.2f}\")\n",
    "if int_cpt:\n",
    "    print(f\"Alpha: {linreg.intercept_[0]:.2f}\")"
   ]
  },
  {
   "cell_type": "code",
   "execution_count": 17,
   "metadata": {},
   "outputs": [
    {
     "name": "stdout",
     "output_type": "stream",
     "text": [
      "5 Factor with Momentum\n",
      "\n",
      "With Intercept:\n",
      "Mkt_RF Beta: 1.31\n",
      "SMB Beta: 0.15\n",
      "HML Beta: -0.69\n",
      "RMW Beta: 0.87\n",
      "CMA Beta: 0.53\n",
      "MOM Beta: 0.31\n",
      "Alpha: 0.01\n",
      "\n",
      "Without Intercept:\n",
      "Mkt_RF Beta: 1.35\n",
      "SMB Beta: 0.20\n",
      "HML Beta: -0.75\n",
      "RMW Beta: 0.97\n",
      "CMA Beta: 0.64\n",
      "MOM Beta: 0.34\n"
     ]
    }
   ],
   "source": [
    "print(\"5 Factor with Momentum\\n\")\n",
    "\n",
    "print(\"With Intercept:\")\n",
    "x = X\n",
    "int_cpt = True\n",
    "linreg = LinearRegression(fit_intercept=int_cpt).fit(x, y)\n",
    "betas = linreg.coef_.flatten().tolist()\n",
    "betanames = X.columns.tolist()\n",
    "for name, beta in zip(betanames, betas):\n",
    "    print(f\"{name} Beta: {beta:.2f}\")\n",
    "if int_cpt:\n",
    "    print(f\"Alpha: {linreg.intercept_[0]:.2f}\")\n",
    "\n",
    "print(\"\\nWithout Intercept:\")\n",
    "x = X\n",
    "int_cpt = False\n",
    "linreg = LinearRegression(fit_intercept=int_cpt).fit(x, y)\n",
    "betas = linreg.coef_.flatten().tolist()\n",
    "betanames = X.columns.tolist()\n",
    "for name, beta in zip(betanames, betas):\n",
    "    print(f\"{name} Beta: {beta:.2f}\")\n",
    "if int_cpt:\n",
    "    print(f\"Alpha: {linreg.intercept_[0]:.2f}\")"
   ]
  }
 ],
 "metadata": {
  "kernelspec": {
   "display_name": "Python 3.9.10 64-bit ('miniforge3')",
   "language": "python",
   "name": "python3"
  },
  "language_info": {
   "codemirror_mode": {
    "name": "ipython",
    "version": 3
   },
   "file_extension": ".py",
   "mimetype": "text/x-python",
   "name": "python",
   "nbconvert_exporter": "python",
   "pygments_lexer": "ipython3",
   "version": "3.9.10"
  },
  "orig_nbformat": 4,
  "vscode": {
   "interpreter": {
    "hash": "3d1021ef7d1acdd48d1fa6dd72679ee9b9e590da5c4392dffcca32408abbec9f"
   }
  }
 },
 "nbformat": 4,
 "nbformat_minor": 2
}
